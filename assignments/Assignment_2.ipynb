{
 "cells": [
  {
   "cell_type": "markdown",
   "metadata": {},
   "source": [
    "Q 1"
   ]
  },
  {
   "cell_type": "code",
   "execution_count": 1,
   "metadata": {},
   "outputs": [
    {
     "name": "stdout",
     "output_type": "stream",
     "text": [
      "[10, 20, 30, 40, 50, 60, 70, 80, 200, 300]\n",
      "[20, 40, 50, 60, 70, 80, 200, 300]\n",
      "Ascending: [20, 40, 50, 60, 70, 80, 200, 300]\n",
      "Descending: [300, 200, 80, 70, 60, 50, 40, 20]\n"
     ]
    }
   ],
   "source": [
    "L = [10, 20, 30, 40, 50, 60, 70, 80]\n",
    "L.append(200)\n",
    "L.append(300)\n",
    "print( L)\n",
    "L.remove(10)\n",
    "L.remove(30)\n",
    "print( L)\n",
    "L.sort()\n",
    "print(\"Ascending:\", L)\n",
    "L.sort(reverse=True)\n",
    "print(\"Descending:\", L)\n"
   ]
  },
  {
   "cell_type": "markdown",
   "metadata": {},
   "source": [
    "Q 2"
   ]
  },
  {
   "cell_type": "code",
   "execution_count": 5,
   "metadata": {},
   "outputs": [
    {
     "name": "stdout",
     "output_type": "stream",
     "text": [
      "Highest score: 92 Index: 5\n",
      "Lowest score: 45 Count: 2\n",
      "Reversed tuple as list: [45, 58, 92, 89, 45.4, 76, 89.5, 45]\n",
      "Index of x: Not present\n"
     ]
    }
   ],
   "source": [
    "T=(45, 89.5, 76, 45.4, 89, 92, 58, 45)\n",
    "\n",
    "\n",
    "print(\"Highest score:\", max(T), \"Index:\", T.index(max(T)))\n",
    "print(\"Lowest score:\", min(T), \"Count:\", T.count(min(T)))\n",
    "print(\"Reversed tuple as list:\", list(T[::-1]))\n",
    "x=int(input(\"enter the number 76 \"))# input by iuser\n",
    "print(\"Index of x:\", T.index(x) if x in T else \"Not present\")"
   ]
  },
  {
   "cell_type": "markdown",
   "metadata": {},
   "source": [
    "Q 3\n"
   ]
  },
  {
   "cell_type": "code",
   "execution_count": null,
   "metadata": {},
   "outputs": [],
   "source": [
    "import random\n",
    "\n",
    "\n",
    "random_numbers = [random.randint(100, 900) for _ in range(100)]\n",
    "\n",
    "odd_numbers = [num for num in random_numbers if num % 2 != 0]\n",
    "print(\"Count of odd numbers:\", len(odd_numbers))\n",
    "\n",
    "even_numbers = [num for num in random_numbers if num % 2 == 0]\n",
    "print(\"Count of even numbers:\", len(even_numbers))\n",
    "\n",
    "def is_prime(n):\n",
    "    if n <= 1:\n",
    "        return False\n",
    "    for i in range(2, int(n**0.5) + 1):\n",
    "        if n % i == 0:\n",
    "            return False\n",
    "    return True\n",
    "\n",
    "prime_numbers = [num for num in random_numbers if is_prime(num)]\n",
    "print(\" total no of prime numbers:\", len(prime_numbers))"
   ]
  },
  {
   "cell_type": "markdown",
   "metadata": {},
   "source": [
    "Q 4"
   ]
  },
  {
   "cell_type": "code",
   "execution_count": 7,
   "metadata": {},
   "outputs": [
    {
     "name": "stdout",
     "output_type": "stream",
     "text": [
      "U of A and B: {34, 45, 78, 23, 56, 90}\n",
      "Intersection of A and B: {90, 78}\n",
      "Symmetric difference of A and B: {34, 45, 23, 56}\n",
      "Is A a subset of B? False\n",
      "Is B a superset of A? False\n",
      "Score 56 removed from set A: {34, 90, 78}\n"
     ]
    }
   ],
   "source": [
    "A = {34, 56, 78, 90}\n",
    "B = {78, 45, 90, 23}\n",
    "\n",
    "union_set = A.union(B)\n",
    "print(\"U of A and B:\", union_set)\n",
    "\n",
    "intersection_set = A.intersection(B)\n",
    "print(\"Intersection of A and B:\", intersection_set)\n",
    "\n",
    "symmetric_diff_set = A.symmetric_difference(B)\n",
    "print(\"Symmetric difference of A and B:\", symmetric_diff_set)\n",
    "\n",
    "\n",
    "print(\"Is A a subset of B?\", A.issubset(B))\n",
    "print(\"Is B a superset of A?\", B.issuperset(A))\n",
    "\n",
    "X = int(input(\"Enter a score to remove from set A: \"))\n",
    "if X in A:\n",
    "    A.remove(X)\n",
    "    print(f\"Score {X} removed from set A:\", A)\n",
    "else:\n",
    "    print(f\"Score {X} not found in set A.\")"
   ]
  },
  {
   "cell_type": "markdown",
   "metadata": {},
   "source": [
    "Q 5"
   ]
  },
  {
   "cell_type": "code",
   "execution_count": 9,
   "metadata": {},
   "outputs": [
    {
     "name": "stdout",
     "output_type": "stream",
     "text": [
      "{'name': 'Kelly', 'age': 25, 'salary': 8000, 'location': 'New york'}\n"
     ]
    }
   ],
   "source": [
    "sample_dict = {\n",
    "    \"name\": \"Kelly\",\n",
    "    \"age\": 25,\n",
    "    \"salary\": 8000,\n",
    "    \"city\": \"New york\"\n",
    "}\n",
    "\n",
    "sample_dict[\"location\"] = sample_dict.pop(\"city\")\n",
    "\n",
    "print(sample_dict)"
   ]
  }
 ],
 "metadata": {
  "kernelspec": {
   "display_name": "Python 3",
   "language": "python",
   "name": "python3"
  },
  "language_info": {
   "codemirror_mode": {
    "name": "ipython",
    "version": 3
   },
   "file_extension": ".py",
   "mimetype": "text/x-python",
   "name": "python",
   "nbconvert_exporter": "python",
   "pygments_lexer": "ipython3",
   "version": "3.13.1"
  }
 },
 "nbformat": 4,
 "nbformat_minor": 2
}
